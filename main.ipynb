{
 "cells": [
  {
   "cell_type": "code",
   "execution_count": null,
   "metadata": {},
   "outputs": [],
   "source": [
    "from dialog.Dialog import Dialog\n",
    "Dialog().t()"
   ]
  },
  {
   "cell_type": "code",
   "execution_count": 1,
   "metadata": {},
   "outputs": [],
   "source": [
    "import json\n",
    "import OpenSearch.opensearch as OpenSearchUtil \n",
    "#import OpenSearch.populate_index as populateIndex\n",
    "import OpenSearch.query_manager as query_manager\n",
    "#from embeddings.recipe_embeddings import RecipesEmbeddings\n",
    "#import pprint as pp\n"
   ]
  },
  {
   "cell_type": "code",
   "execution_count": 2,
   "metadata": {},
   "outputs": [],
   "source": [
    "def load_json():\n",
    "    with open(\"./Defs/recipes_data_comp_trans.json\", \"r\") as read_file:\n",
    "        data = json.load(read_file)\n",
    "    return data\n"
   ]
  },
  {
   "cell_type": "code",
   "execution_count": 3,
   "metadata": {},
   "outputs": [],
   "source": [
    "\n",
    "data = load_json()"
   ]
  },
  {
   "cell_type": "code",
   "execution_count": 4,
   "metadata": {},
   "outputs": [],
   "source": [
    "OpenSearchUtil.opensearch_end.disconnect()\n",
    "client_info = OpenSearchUtil.opensearch_end.connect()"
   ]
  },
  {
   "cell_type": "code",
   "execution_count": 5,
   "metadata": {},
   "outputs": [],
   "source": [
    "client = client_info[0]\n",
    "index_name = client_info[1]\n",
    "query_manager = query_manager.QueryManager(client,index_name)"
   ]
  },
  {
   "cell_type": "code",
   "execution_count": null,
   "metadata": {},
   "outputs": [],
   "source": [
    "#OpenSearchUtil.opensearch_end.delete_index()"
   ]
  },
  {
   "cell_type": "code",
   "execution_count": null,
   "metadata": {},
   "outputs": [],
   "source": [
    "#OpenSearchUtil.opensearch_end.create_index()"
   ]
  },
  {
   "cell_type": "code",
   "execution_count": null,
   "metadata": {},
   "outputs": [],
   "source": [
    "#populateIndex.populate_index(data=data)\n",
    "#time.sleep(2)"
   ]
  },
  {
   "cell_type": "code",
   "execution_count": null,
   "metadata": {},
   "outputs": [],
   "source": [
    "# step_embeddings = RecipesEmbeddings(data)\n",
    "# step_embeddings.compute_embeddings()\n",
    "# step_embeddings.save_embeddings(\"Defs/recipe_embeddings\")"
   ]
  },
  {
   "cell_type": "code",
   "execution_count": null,
   "metadata": {},
   "outputs": [],
   "source": [
    "query_manager.search_by_total_time(10)"
   ]
  },
  {
   "cell_type": "code",
   "execution_count": null,
   "metadata": {},
   "outputs": [],
   "source": [
    "query_manager.search_by_difficulty(\"easy\")"
   ]
  },
  {
   "cell_type": "code",
   "execution_count": null,
   "metadata": {},
   "outputs": [],
   "source": [
    "query_manager.search_by_course(\"main\")"
   ]
  },
  {
   "cell_type": "code",
   "execution_count": null,
   "metadata": {},
   "outputs": [],
   "source": [
    "query_manager.search_ingredients_bool([\"chicken\"], [\"parmesan cheese\"])"
   ]
  },
  {
   "cell_type": "code",
   "execution_count": null,
   "metadata": {},
   "outputs": [],
   "source": [
    "query_manager.search_by_servings(4)"
   ]
  },
  {
   "cell_type": "code",
   "execution_count": null,
   "metadata": {},
   "outputs": [],
   "source": [
    "query_manager.text_query(\"I want a recipe that uses a bowl\")"
   ]
  },
  {
   "cell_type": "code",
   "execution_count": null,
   "metadata": {},
   "outputs": [],
   "source": [
    "query_manager.query_by_ingredient(\"I want a recipe with tomato and cheese\")"
   ]
  },
  {
   "cell_type": "code",
   "execution_count": null,
   "metadata": {},
   "outputs": [],
   "source": [
    "url = \"https://img.etimg.com/thumb/msid-95423731,width-650,height-488,imgsize-56196,resizemode-75/tomatoes-canva.jpg\"\n",
    "query_manager.query_by_img(url, num_results=5)"
   ]
  },
  {
   "cell_type": "code",
   "execution_count": null,
   "metadata": {},
   "outputs": [],
   "source": [
    "query = \"tomato\"\n",
    "query_manager.query_by_txt(query, num_results=5)"
   ]
  },
  {
   "cell_type": "code",
   "execution_count": 6,
   "metadata": {},
   "outputs": [
    {
     "name": "stdout",
     "output_type": "stream",
     "text": [
      "\n",
      "Search Result:\n",
      "{'_shards': {'failed': 0, 'skipped': 0, 'successful': 4, 'total': 4},\n",
      " 'hits': {'hits': [{'_id': '949',\n",
      "                    '_index': 'user204',\n",
      "                    '_score': 3.373609,\n",
      "                    '_source': {'difficultyLevel': 'easy',\n",
      "                                'ingredients': [{'name': 'cooking spray'},\n",
      "                                                {'name': 'flour'},\n",
      "                                                {'name': 'oats'},\n",
      "                                                {'name': 'baking soda'},\n",
      "                                                {'name': 'salt'},\n",
      "                                                {'name': 'butter'},\n",
      "                                                {'name': 'egg'},\n",
      "                                                {'name': 'sugar'},\n",
      "                                                {'name': 'unsweetened '\n",
      "                                                         'applesauce'},\n",
      "                                                {'name': 'chocolate chips'}],\n",
      "                                'recipeName': 'Kids Can Make: '\n",
      "                                              'Oatmeal-Chocolate Snack Cakes',\n",
      "                                'totalTimeMinutes': 65},\n",
      "                    '_type': '_doc'},\n",
      "                   {'_id': '912',\n",
      "                    '_index': 'user204',\n",
      "                    '_score': 3.2219803,\n",
      "                    '_source': {'difficultyLevel': 'easy',\n",
      "                                'ingredients': [{'name': 'flour'},\n",
      "                                                {'name': 'baking powder'},\n",
      "                                                {'name': 'salt'},\n",
      "                                                {'name': 'sugar'},\n",
      "                                                {'name': 'cocoa powder'},\n",
      "                                                {'name': 'water (warm)'},\n",
      "                                                {'name': 'butter'},\n",
      "                                                {'name': 'vanilla extract'},\n",
      "                                                {'name': 'egg'},\n",
      "                                                {'name': 'milk'},\n",
      "                                                {'name': 'chocolate'},\n",
      "                                                {'name': 'cream'},\n",
      "                                                {'name': 'almonds'},\n",
      "                                                {'name': 'butter'},\n",
      "                                                {'name': 'flour for flouring'},\n",
      "                                                {'name': 'chocolate malt '\n",
      "                                                         'powder (optional)'}],\n",
      "                                'recipeName': 'Zebra bundt cake',\n",
      "                                'totalTimeMinutes': 90},\n",
      "                    '_type': '_doc'},\n",
      "                   {'_id': '357',\n",
      "                    '_index': 'user204',\n",
      "                    '_score': 3.2176256,\n",
      "                    '_source': {'difficultyLevel': 'easy',\n",
      "                                'ingredients': [{'name': 'cooking spray'},\n",
      "                                                {'name': 'flour'},\n",
      "                                                {'name': 'chocolate cake mix '\n",
      "                                                         '(plus required '\n",
      "                                                         'ingredients)'},\n",
      "                                                {'name': 'sugar'},\n",
      "                                                {'name': 'corn syrup'},\n",
      "                                                {'name': 'cream of tartar'},\n",
      "                                                {'name': 'chocolates'},\n",
      "                                                {'name': 'cream'},\n",
      "                                                {'name': 'cream'},\n",
      "                                                {'name': 'sugar'}],\n",
      "                                'recipeName': 'Broken Heart Chocolate Cake',\n",
      "                                'totalTimeMinutes': 150},\n",
      "                    '_type': '_doc'},\n",
      "                   {'_id': '985',\n",
      "                    '_index': 'user204',\n",
      "                    '_score': 3.2067654,\n",
      "                    '_source': {'difficultyLevel': 'easy',\n",
      "                                'ingredients': [{'name': 'flour'},\n",
      "                                                {'name': 'butter'},\n",
      "                                                {'name': 'sugar'},\n",
      "                                                {'name': 'vanilla extract'},\n",
      "                                                {'name': 'egg'},\n",
      "                                                {'name': 'pumpkin puree'},\n",
      "                                                {'name': 'baking powder'},\n",
      "                                                {'name': 'ground cinnamon'},\n",
      "                                                {'name': 'nutmeg'},\n",
      "                                                {'name': 'clove'},\n",
      "                                                {'name': 'salt'},\n",
      "                                                {'name': 'chocolate'},\n",
      "                                                {'name': 'Hazelnut Butter '\n",
      "                                                         'Buttercream'},\n",
      "                                                {'name': 'butter'},\n",
      "                                                {'name': 'confectioners sugar'},\n",
      "                                                {'name': 'vanilla extract'},\n",
      "                                                {'name': 'milk'}],\n",
      "                                'recipeName': 'Pumpkin Chocolate Chip Cake '\n",
      "                                              'with Beurre Noisette '\n",
      "                                              'Buttercream for the Yule Log '\n",
      "                                              'Tree Stump',\n",
      "                                'totalTimeMinutes': 40},\n",
      "                    '_type': '_doc'},\n",
      "                   {'_id': '354',\n",
      "                    '_index': 'user204',\n",
      "                    '_score': 3.1992369,\n",
      "                    '_source': {'difficultyLevel': 'easy',\n",
      "                                'ingredients': [{'name': 'flour'},\n",
      "                                                {'name': 'butter'},\n",
      "                                                {'name': 'butter'},\n",
      "                                                {'name': 'chocolate'},\n",
      "                                                {'name': 'egg'},\n",
      "                                                {'name': 'egg'},\n",
      "                                                {'name': 'sugar'},\n",
      "                                                {'name': 'salt'}],\n",
      "                                'recipeName': 'Baked Molten Chocolate Cake',\n",
      "                                'totalTimeMinutes': 40},\n",
      "                    '_type': '_doc'}],\n",
      "          'max_score': 3.373609,\n",
      "          'total': {'relation': 'eq', 'value': 26}},\n",
      " 'timed_out': False,\n",
      " 'took': 95}\n"
     ]
    }
   ],
   "source": [
    "information = {\n",
    "            'generic' : \"bake a cake\",\n",
    "            'occasion' : \"birthday party\",\n",
    "            'ingredients' : \"chocolate chips\"\n",
    "        }\n",
    "\n",
    "query_manager.query_generic_opensearch(information,suggestion=True)"
   ]
  }
 ],
 "metadata": {
  "kernelspec": {
   "display_name": "nlp-cv-ir",
   "language": "python",
   "name": "python3"
  },
  "language_info": {
   "codemirror_mode": {
    "name": "ipython",
    "version": 3
   },
   "file_extension": ".py",
   "mimetype": "text/x-python",
   "name": "python",
   "nbconvert_exporter": "python",
   "pygments_lexer": "ipython3",
   "version": "3.9.18"
  }
 },
 "nbformat": 4,
 "nbformat_minor": 2
}
