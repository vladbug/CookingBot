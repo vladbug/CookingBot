{
 "cells": [
  {
   "cell_type": "code",
   "execution_count": 1,
   "metadata": {},
   "outputs": [
    {
     "name": "stderr",
     "output_type": "stream",
     "text": [
      "[nltk_data] Downloading package averaged_perceptron_tagger to\n",
      "[nltk_data]     C:\\Users\\ASUS\\AppData\\Roaming\\nltk_data...\n",
      "[nltk_data]   Package averaged_perceptron_tagger is already up-to-\n",
      "[nltk_data]       date!\n"
     ]
    }
   ],
   "source": [
    "import json\n",
    "import OpenSearch.opensearch as OpenSearchUtil \n",
    "import OpenSearch.populate_index as populateIndex\n",
    "import OpenSearch.query_manager as query_manager\n",
    "import time \n",
    "import pprint as pp\n"
   ]
  },
  {
   "cell_type": "code",
   "execution_count": 2,
   "metadata": {},
   "outputs": [],
   "source": [
    "def load_json():\n",
    "    with open(\"./Defs/recipes_data_comp_trans.json\", \"r\") as read_file:\n",
    "        data = json.load(read_file)\n",
    "    return data\n"
   ]
  },
  {
   "cell_type": "code",
   "execution_count": 3,
   "metadata": {},
   "outputs": [],
   "source": [
    "\n",
    "data = load_json()"
   ]
  },
  {
   "cell_type": "code",
   "execution_count": 4,
   "metadata": {},
   "outputs": [],
   "source": [
    "OpenSearchUtil.opensearch_end.disconnect()\n",
    "client_info = OpenSearchUtil.opensearch_end.connect()"
   ]
  },
  {
   "cell_type": "code",
   "execution_count": 5,
   "metadata": {},
   "outputs": [],
   "source": [
    "client = client_info[0]\n",
    "index_name = client_info[1]\n",
    "query_manager = query_manager.QueryManager(client,index_name)"
   ]
  },
  {
   "cell_type": "code",
   "execution_count": null,
   "metadata": {},
   "outputs": [],
   "source": [
    "#OpenSearchUtil.opensearch_end.delete_index()"
   ]
  },
  {
   "cell_type": "code",
   "execution_count": null,
   "metadata": {},
   "outputs": [],
   "source": [
    "#OpenSearchUtil.opensearch_end.create_index()"
   ]
  },
  {
   "cell_type": "code",
   "execution_count": null,
   "metadata": {},
   "outputs": [],
   "source": [
    "# populateIndex.populate_index(data=data)\n",
    "# time.sleep(2)"
   ]
  },
  {
   "cell_type": "code",
   "execution_count": 6,
   "metadata": {},
   "outputs": [
    {
     "name": "stdout",
     "output_type": "stream",
     "text": [
      "\n",
      "Search results:\n",
      "{'_shards': {'failed': 0, 'skipped': 0, 'successful': 4, 'total': 4},\n",
      " 'hits': {'hits': [{'_id': '9',\n",
      "                    '_index': 'user204',\n",
      "                    '_score': 1.0,\n",
      "                    '_source': {'difficultyLevel': None,\n",
      "                                'recipeName': 'How to Make Perfect Guacamole',\n",
      "                                'totalTimeMinutes': 10},\n",
      "                    '_type': '_doc'}],\n",
      "          'max_score': 1.0,\n",
      "          'total': {'relation': 'eq', 'value': 75}},\n",
      " 'timed_out': False,\n",
      " 'took': 15}\n"
     ]
    }
   ],
   "source": [
    "query_manager.search_by_total_time(10)"
   ]
  },
  {
   "cell_type": "code",
   "execution_count": 7,
   "metadata": {},
   "outputs": [
    {
     "name": "stdout",
     "output_type": "stream",
     "text": [
      "{'_source': ['recipeName', 'totalTimeMinutes', 'difficultyLevel'],\n",
      " 'query': {'multi_match': {'fields': ['difficultyLevel'], 'query': 'easy'}},\n",
      " 'size': 1}\n",
      "\n",
      "Search results:\n",
      "{'_shards': {'failed': 0, 'skipped': 0, 'successful': 4, 'total': 4},\n",
      " 'hits': {'hits': [{'_id': '97',\n",
      "                    '_index': 'user204',\n",
      "                    '_score': 0.31059635,\n",
      "                    '_source': {'difficultyLevel': 'easy',\n",
      "                                'recipeName': 'Light broccoli soup',\n",
      "                                'totalTimeMinutes': 25},\n",
      "                    '_type': '_doc'}],\n",
      "          'max_score': 0.31059635,\n",
      "          'total': {'relation': 'eq', 'value': 318}},\n",
      " 'timed_out': False,\n",
      " 'took': 14}\n"
     ]
    }
   ],
   "source": [
    "query_manager.search_by_difficulty(\"easy\")"
   ]
  },
  {
   "cell_type": "code",
   "execution_count": 8,
   "metadata": {},
   "outputs": [
    {
     "name": "stdout",
     "output_type": "stream",
     "text": [
      "\n",
      "Search results:\n",
      "{'_shards': {'failed': 0, 'skipped': 0, 'successful': 4, 'total': 4},\n",
      " 'hits': {'hits': [{'_id': '729',\n",
      "                    '_index': 'user204',\n",
      "                    '_score': 1.8101634,\n",
      "                    '_source': {'courses': ['main'],\n",
      "                                'recipeName': 'Home-Made Pizza',\n",
      "                                'totalTimeMinutes': 27},\n",
      "                    '_type': '_doc'}],\n",
      "          'max_score': 1.8101634,\n",
      "          'total': {'relation': 'eq', 'value': 24}},\n",
      " 'timed_out': False,\n",
      " 'took': 17}\n"
     ]
    }
   ],
   "source": [
    "query_manager.search_by_course(\"main\")"
   ]
  },
  {
   "cell_type": "code",
   "execution_count": 9,
   "metadata": {},
   "outputs": [
    {
     "name": "stdout",
     "output_type": "stream",
     "text": [
      "\n",
      "Search results:\n",
      "{'_shards': {'failed': 0, 'skipped': 0, 'successful': 4, 'total': 4},\n",
      " 'hits': {'hits': [{'_id': '741',\n",
      "                    '_index': 'user204',\n",
      "                    '_score': 4.7365026,\n",
      "                    '_source': {'ingredients': [{'name': 'chicken'},\n",
      "                                                {'name': ''},\n",
      "                                                {'name': 'Olive oil'},\n",
      "                                                {'name': 'salt'},\n",
      "                                                {'name': ') frozen lemonade '\n",
      "                                                         'concentrate'},\n",
      "                                                {'name': 'dark brown sugar'},\n",
      "                                                {'name': 'balsamic vinegar'},\n",
      "                                                {'name': 'ketchup'}],\n",
      "                                'recipeName': 'Cook the Book: Lemon Chicken',\n",
      "                                'totalTimeMinutes': None},\n",
      "                    '_type': '_doc'},\n",
      "                   {'_id': '135',\n",
      "                    '_index': 'user204',\n",
      "                    '_score': 4.057365,\n",
      "                    '_source': {'ingredients': [{'name': 'ketchup'},\n",
      "                                                {'name': 'orange marmalade or '\n",
      "                                                         'apricot preserves'},\n",
      "                                                {'name': 'soy sauce'},\n",
      "                                                {'name': 'balsamic vinegar'},\n",
      "                                                {'name': 'ginger root'},\n",
      "                                                {'name': 'cayenne'},\n",
      "                                                {'name': 'bell pepper'},\n",
      "                                                {'name': 'green onion'},\n",
      "                                                {'name': 'extra virgin olive '\n",
      "                                                         'oil'},\n",
      "                                                {'name': 'salt'},\n",
      "                                                {'name': 'chicken thighs'},\n",
      "                                                {'name': 'white rice'}],\n",
      "                                'recipeName': 'Baked Sweet-and-Sour Chicken',\n",
      "                                'totalTimeMinutes': 40},\n",
      "                    '_type': '_doc'},\n",
      "                   {'_id': '136',\n",
      "                    '_index': 'user204',\n",
      "                    '_score': 4.057365,\n",
      "                    '_source': {'ingredients': [{'name': 'egg'},\n",
      "                                                {'name': 'corn starch'},\n",
      "                                                {'name': 'garlic salt'},\n",
      "                                                {'name': 'chicken tenders'},\n",
      "                                                {'name': 'oil'},\n",
      "                                                {'name': 'cider vinegar'},\n",
      "                                                {'name': 'sugar'},\n",
      "                                                {'name': 'chicken broth'},\n",
      "                                                {'name': 'ketchup'},\n",
      "                                                {'name': 'soy sauce'},\n",
      "                                                {'name': 'salt'}],\n",
      "                                'recipeName': 'Sweet and Sour Chicken Tenders',\n",
      "                                'totalTimeMinutes': 55},\n",
      "                    '_type': '_doc'},\n",
      "                   {'_id': '133',\n",
      "                    '_index': 'user204',\n",
      "                    '_score': 4.057365,\n",
      "                    '_source': {'ingredients': [{'name': 'chicken breast'},\n",
      "                                                {'name': 'soy sauce'},\n",
      "                                                {'name': 'corn starch'},\n",
      "                                                {'name': 'egg'},\n",
      "                                                {'name': 'pineapple'},\n",
      "                                                {'name': 'oil'},\n",
      "                                                {'name': 'bell pepper'},\n",
      "                                                {'name': 'bell pepper'},\n",
      "                                                {'name': 'white onion'},\n",
      "                                                {'name': 'garlic'},\n",
      "                                                {'name': 'ginger root'},\n",
      "                                                {'name': 'white vinegar'},\n",
      "                                                {'name': 'sugar'},\n",
      "                                                {'name': 'ketchup'},\n",
      "                                                {'name': 'white rice'},\n",
      "                                                {'name': 'green onion'},\n",
      "                                                {'name': 'sesame seeds'}],\n",
      "                                'recipeName': 'Pineapple Sweet & Sour Chicken',\n",
      "                                'totalTimeMinutes': None},\n",
      "                    '_type': '_doc'},\n",
      "                   {'_id': '149',\n",
      "                    '_index': 'user204',\n",
      "                    '_score': 4.057365,\n",
      "                    '_source': {'ingredients': [{'name': 'eggplant'},\n",
      "                                                {'name': 'Sichuan Peppercorns'},\n",
      "                                                {'name': 'soy sauce'},\n",
      "                                                {'name': 'Dried Shiitake '\n",
      "                                                         'Mushroom'},\n",
      "                                                {'name': 'lemongrass'},\n",
      "                                                {'name': 'garlic'},\n",
      "                                                {'name': 'ginger root'},\n",
      "                                                {'name': 'ground pork'},\n",
      "                                                {'name': 'rice noodles'},\n",
      "                                                {'name': 'chicken broth'},\n",
      "                                                {'name': 'oil'},\n",
      "                                                {'name': 'salt'}],\n",
      "                                'recipeName': 'Get Better Soup',\n",
      "                                'totalTimeMinutes': 60},\n",
      "                    '_type': '_doc'}],\n",
      "          'max_score': 4.7365026,\n",
      "          'total': {'relation': 'eq', 'value': 108}},\n",
      " 'timed_out': False,\n",
      " 'took': 57}\n"
     ]
    }
   ],
   "source": [
    "query_manager.search_ingredients_bool([\"chicken\"], [\"parmesan cheese\"])"
   ]
  },
  {
   "cell_type": "code",
   "execution_count": 10,
   "metadata": {},
   "outputs": [
    {
     "name": "stdout",
     "output_type": "stream",
     "text": [
      "\n",
      "Search results:\n",
      "{'_shards': {'failed': 0, 'skipped': 0, 'successful': 4, 'total': 4},\n",
      " 'hits': {'hits': [{'_id': '30',\n",
      "                    '_index': 'user204',\n",
      "                    '_score': 1.0,\n",
      "                    '_source': {'ingredients': [{'name': 'garlic'},\n",
      "                                                {'name': 'Fresh Ginger'},\n",
      "                                                {'name': 'white onion'},\n",
      "                                                {'name': \"Red Bird's Eye Chili \"\n",
      "                                                         'Pepper'},\n",
      "                                                {'name': 'cumin seeds'},\n",
      "                                                {'name': 'ground coriander'},\n",
      "                                                {'name': 'lime'},\n",
      "                                                {'name': 'turmeric'},\n",
      "                                                {'name': 'Water'},\n",
      "                                                {'name': 'dark brown sugar'},\n",
      "                                                {'name': 'lime'},\n",
      "                                                {'name': 'lemongrass'},\n",
      "                                                {'name': 'fish sauce'},\n",
      "                                                {'name': 'salt'},\n",
      "                                                {'name': 'coconut milk'},\n",
      "                                                {'name': 'shrimp'},\n",
      "                                                {'name': 'basmati rice'},\n",
      "                                                {'name': 'yukon gold potato'},\n",
      "                                                {'name': 'sweet potatoes'},\n",
      "                                                {'name': 'green beans'},\n",
      "                                                {'name': 'Fresh Thai Basil'},\n",
      "                                                {'name': 'oil'}],\n",
      "                                'recipeName': 'Yellow Curry Shrimp',\n",
      "                                'servings': 4},\n",
      "                    '_type': '_doc'}],\n",
      "          'max_score': 1.0,\n",
      "          'total': {'relation': 'eq', 'value': 278}},\n",
      " 'timed_out': False,\n",
      " 'took': 24}\n"
     ]
    }
   ],
   "source": [
    "query_manager.search_by_servings(4)"
   ]
  },
  {
   "cell_type": "code",
   "execution_count": 11,
   "metadata": {},
   "outputs": [
    {
     "name": "stdout",
     "output_type": "stream",
     "text": [
      "\n",
      "Search Result:\n",
      "{'_shards': {'failed': 0, 'skipped': 0, 'successful': 4, 'total': 4},\n",
      " 'hits': {'hits': [{'_id': '610',\n",
      "                    '_index': 'user204',\n",
      "                    '_score': 1.6348095,\n",
      "                    '_source': {'ingredients': [{'name': 'flour'},\n",
      "                                                {'name': 'baking powder'},\n",
      "                                                {'name': 'baking soda'},\n",
      "                                                {'name': 'salt'},\n",
      "                                                {'name': 'sugar'},\n",
      "                                                {'name': 'sour cream'},\n",
      "                                                {'name': 'milk'},\n",
      "                                                {'name': 'egg'},\n",
      "                                                {'name': 'Clear Vanilla '\n",
      "                                                         'Extract'},\n",
      "                                                {'name': 'butter'},\n",
      "                                                {'name': 'chocolate'}],\n",
      "                                'recipeName': 'Chocolate Chip Muffins',\n",
      "                                'tools': []},\n",
      "                    '_type': '_doc'}],\n",
      "          'max_score': 1.6348095,\n",
      "          'total': {'relation': 'eq', 'value': 73}},\n",
      " 'timed_out': False,\n",
      " 'took': 65}\n"
     ]
    }
   ],
   "source": [
    "query_manager.text_query(\"I want a recipe that uses a bowl\")"
   ]
  },
  {
   "cell_type": "code",
   "execution_count": 12,
   "metadata": {},
   "outputs": [
    {
     "name": "stdout",
     "output_type": "stream",
     "text": [
      "tomato\n",
      "cheese\n",
      "\n",
      "Search Result:\n",
      "{'_shards': {'failed': 0, 'skipped': 0, 'successful': 4, 'total': 4},\n",
      " 'hits': {'hits': [{'_id': '374',\n",
      "                    '_index': 'user204',\n",
      "                    '_score': 3.8108418,\n",
      "                    '_source': {'cookTimeMinutes': None,\n",
      "                                'difficultyLevel': None,\n",
      "                                'ingredients': [{'name': 'tortilla'},\n",
      "                                                {'name': 'arugula'},\n",
      "                                                {'name': 'tomato'},\n",
      "                                                {'name': 'cheddar cheese'},\n",
      "                                                {'name': 'sour cream'},\n",
      "                                                {'name': 'Sauce, salsa, '\n",
      "                                                         'ready-to-serve'},\n",
      "                                                {'name': 'Beans, snap, green, '\n",
      "                                                         'raw'}],\n",
      "                                'prepTimeMinutes': None,\n",
      "                                'recipeName': 'Bean Burritos',\n",
      "                                'tools': [],\n",
      "                                'totalTimeMinutes': None},\n",
      "                    '_type': '_doc'}],\n",
      "          'max_score': 3.8108418,\n",
      "          'total': {'relation': 'eq', 'value': 40}},\n",
      " 'timed_out': False,\n",
      " 'took': 95}\n"
     ]
    }
   ],
   "source": [
    "query_manager.query_by_ingredient(\"I want a recipe with tomato and cheese\")"
   ]
  }
 ],
 "metadata": {
  "kernelspec": {
   "display_name": "nlp-cv-ir",
   "language": "python",
   "name": "python3"
  },
  "language_info": {
   "codemirror_mode": {
    "name": "ipython",
    "version": 3
   },
   "file_extension": ".py",
   "mimetype": "text/x-python",
   "name": "python",
   "nbconvert_exporter": "python",
   "pygments_lexer": "ipython3",
   "version": "3.9.19"
  }
 },
 "nbformat": 4,
 "nbformat_minor": 2
}
